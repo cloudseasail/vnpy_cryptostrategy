{
 "cells": [
  {
   "cell_type": "code",
   "execution_count": 1,
   "metadata": {},
   "outputs": [],
   "source": [
    "import sys\n",
    "sys.path.append(\"..\")\n",
    "import vnpy_ccxt\n",
    "vnpy_ccxt.init_vnpy_crypto()\n",
    "from datetime import datetime\n",
    "\n",
    "from vnpy.trader.constant import Interval, Exchange\n",
    "from vnpy_cryptostrategy.utils.data_manager import DataManager"
   ]
  },
  {
   "cell_type": "code",
   "execution_count": 2,
   "metadata": {},
   "outputs": [
    {
     "name": "stdout",
     "output_type": "stream",
     "text": [
      "找不到数据服务驱动vnpy_，使用默认的RQData数据服务\n",
      "LogData(gateway_name='BinanceSpot', msg='REST API启动成功', level=20)\n",
      "LogData(gateway_name='BinanceSpot', msg='委托信息查询成功', level=20)\n",
      "LogData(gateway_name='BinanceSpot', msg='账户资金查询成功', level=20)\n",
      "LogData(gateway_name='BinanceSpot', msg='合约信息查询成功', level=20)\n",
      "LogData(gateway_name='BinanceSpot', msg='行情Websocket API连接成功', level=20)\n",
      "LogData(gateway_name='BinanceSpot', msg='交易Websocket API连接成功', level=20)\n"
     ]
    }
   ],
   "source": [
    "from vnpy_binance.binance_spot_gateway import BinanceSpotGateway\n",
    "\n",
    "setting = {\n",
    "    'key': '',\n",
    "     'secret': '',\n",
    "     '服务器': 'REAL',\n",
    "     '代理地址': '',\n",
    "     '代理端口': 0}\n",
    "\n",
    "# or use local setting\n",
    "setting = \"connect_binancespot.json\"\n",
    "\n",
    "engine = DataManager()\n",
    "engine.connect(\"BinanceSpot\", setting, BinanceSpotGateway)\n"
   ]
  },
  {
   "cell_type": "code",
   "execution_count": 3,
   "metadata": {},
   "outputs": [
    {
     "name": "stdout",
     "output_type": "stream",
     "text": [
      "ContractData(gateway_name='BinanceSpot', symbol='btcusdt', exchange=<Exchange.BINANCE: 'BINANCE'>, name='BTC/USDT', product=<Product.SPOT: '现货'>, size=1, pricetick=0.01, min_volume=1e-05, stop_supported=False, net_position=False, history_data=True, option_strike=0, option_underlying='', option_type=None, option_listed=None, option_expiry=None, option_portfolio='', option_index='')\n"
     ]
    }
   ],
   "source": [
    "symbol=\"btcusdt\"\n",
    "exchange=Exchange.BINANCE\n",
    "vt_symbol = f\"{symbol}.{exchange.value}\"\n",
    "contract = engine.main_engine.get_contract(vt_symbol)\n",
    "print(contract)"
   ]
  },
  {
   "cell_type": "code",
   "execution_count": 4,
   "metadata": {},
   "outputs": [
    {
     "data": {
      "text/plain": [
       "True"
      ]
     },
     "execution_count": 4,
     "metadata": {},
     "output_type": "execute_result"
    },
    {
     "name": "stdout",
     "output_type": "stream",
     "text": [
      "LogData(gateway_name='BinanceSpot', msg='获取历史数据成功，btcusdt - 15m，2022-06-21 18:00:00+08:00 - 2022-06-22 12:30:00+08:00', level=20)\n"
     ]
    }
   ],
   "source": [
    "engine.download_bar_data(\n",
    "            symbol=symbol,\n",
    "            exchange=exchange,\n",
    "            interval=Interval('15m'),\n",
    "            start=datetime(2022,6,21,18,0))"
   ]
  },
  {
   "cell_type": "code",
   "execution_count": 6,
   "metadata": {},
   "outputs": [
    {
     "name": "stdout",
     "output_type": "stream",
     "text": [
      "75\n",
      "BarData(gateway_name='DB', symbol='btcusdt', exchange=<Exchange.BINANCE: 'BINANCE'>, datetime=datetime.datetime(2022, 6, 21, 18, 0, tzinfo=<DstTzInfo 'Asia/Shanghai' CST+8:00:00 STD>), interval=<Interval.MINUTE_15: '15m'>, volume=1041.94558, turnover=22050349.0311001, open_interest=0.0, open_price=21200.01, high_price=21229.13, low_price=21123.23, close_price=21167.81)\n"
     ]
    }
   ],
   "source": [
    "bars = engine.load_bar_data(\n",
    "            symbol=symbol,\n",
    "            exchange=exchange,\n",
    "            interval=Interval('15m'),\n",
    "            start= datetime(2022,6,21,18,0),\n",
    "            end  = datetime(2022,6,22,18,0) )\n",
    "print(len(bars))\n",
    "print(bars[0])"
   ]
  },
  {
   "cell_type": "code",
   "execution_count": null,
   "metadata": {},
   "outputs": [],
   "source": []
  },
  {
   "cell_type": "code",
   "execution_count": null,
   "metadata": {},
   "outputs": [],
   "source": []
  }
 ],
 "metadata": {
  "kernelspec": {
   "display_name": "Python 3",
   "language": "python",
   "name": "python3"
  },
  "language_info": {
   "codemirror_mode": {
    "name": "ipython",
    "version": 3
   },
   "file_extension": ".py",
   "mimetype": "text/x-python",
   "name": "python",
   "nbconvert_exporter": "python",
   "pygments_lexer": "ipython3",
   "version": "3.8.5"
  }
 },
 "nbformat": 4,
 "nbformat_minor": 4
}
